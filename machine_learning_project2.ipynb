{
  "nbformat": 4,
  "nbformat_minor": 0,
  "metadata": {
    "colab": {
      "name": "machine-learning-project2.ipynb",
      "provenance": [],
      "collapsed_sections": [],
      "toc_visible": true,
      "authorship_tag": "ABX9TyOFI68ZnHY0VJ6XTaq8WOh/",
      "include_colab_link": true
    },
    "kernelspec": {
      "name": "python3",
      "display_name": "Python 3"
    }
  },
  "cells": [
    {
      "cell_type": "markdown",
      "metadata": {
        "id": "view-in-github",
        "colab_type": "text"
      },
      "source": [
        "<a href=\"https://colab.research.google.com/github/joeyave/machine-learning-project2/blob/main/machine_learning_project2.ipynb\" target=\"_parent\"><img src=\"https://colab.research.google.com/assets/colab-badge.svg\" alt=\"Open In Colab\"/></a>"
      ]
    },
    {
      "cell_type": "code",
      "metadata": {
        "id": "ajdcfR25V_yz",
        "colab": {
          "base_uri": "https://localhost:8080/"
        },
        "outputId": "9bcc25b1-8f49-4ca4-f12a-77b477d0bffd"
      },
      "source": [
        "from google.colab import drive\n",
        "drive.mount('/content/drive')"
      ],
      "execution_count": null,
      "outputs": [
        {
          "output_type": "stream",
          "text": [
            "Mounted at /content/drive\n"
          ],
          "name": "stdout"
        }
      ]
    },
    {
      "cell_type": "markdown",
      "metadata": {
        "id": "pET217Hev7Uu"
      },
      "source": [
        "# Машинне навчання\n",
        "## Лабораторна робота №2. Авельцев Йосип"
      ]
    },
    {
      "cell_type": "code",
      "metadata": {
        "id": "RIVqDRTkedpn"
      },
      "source": [
        "import pandas as pd\n",
        "from sklearn.model_selection import train_test_split\n",
        "\n",
        "titanic_file_path = '/content/drive/My Drive/Colab Notebooks/train-project2.csv'\n",
        "titanic_data = pd.read_csv(titanic_file_path)"
      ],
      "execution_count": null,
      "outputs": []
    },
    {
      "cell_type": "markdown",
      "metadata": {
        "id": "7qs-OMA-wvj1"
      },
      "source": [
        "### 1. Створити три різних класифікатори з гіперпараметрами по замовчуванню."
      ]
    },
    {
      "cell_type": "code",
      "metadata": {
        "id": "Ebx35fk4wwbm"
      },
      "source": [
        "from sklearn.neighbors import KNeighborsClassifier\n",
        "from sklearn.tree import DecisionTreeClassifier\n",
        "from sklearn.svm import SVC\n",
        "\n",
        "titanic_model1 = KNeighborsClassifier()\n",
        "titanic_model2 = DecisionTreeClassifier()\n",
        "titanic_model3 = SVC()"
      ],
      "execution_count": null,
      "outputs": []
    },
    {
      "cell_type": "markdown",
      "metadata": {
        "id": "d83Wd4giZzSa"
      },
      "source": [
        "### 2. Навчити ці класифікатори на усьому наборі даних і за можливості візуалізувати їх.\n",
        "Після цього слід вручну створити тестовий набір даних з декількох об’єктів і одержати прогнози цільової ознаки за допомогою навчених класифікаторів."
      ]
    },
    {
      "cell_type": "code",
      "metadata": {
        "id": "eOjRd4z8aQOr",
        "colab": {
          "base_uri": "https://localhost:8080/"
        },
        "outputId": "41f6d8b9-570f-47dc-8954-bb456c1840c9"
      },
      "source": [
        "from sklearn.model_selection import train_test_split\n",
        "from sklearn.metrics import mean_absolute_error\n",
        "\n",
        "# Values to predict.\n",
        "y = titanic_data.Survived\n",
        "\n",
        "# Features.\n",
        "X = titanic_data[titanic_data.columns[1:]]\n",
        "\n",
        "titanic_model1.fit(X, y)\n",
        "titanic_model2.fit(X, y)\n",
        "titanic_model3.fit(X, y)\n",
        "\n",
        "custom_X = pd.DataFrame([{\n",
        "    \"Pclass\": 1.0, \n",
        "    \"Age\": 0.329064, \n",
        "    \"SibSp\": 0.333333, \n",
        "    \"Parch\": 0.0, \n",
        "    \"Fare\": 0.043975, \n",
        "    \"Sex_male\": 1, \n",
        "    \"Embarked_Q\": 0, \n",
        "    \"Embarked_S\": 1\n",
        "    }])\n",
        "\n",
        "print(titanic_model1.predict(custom_X))\n",
        "print(titanic_model2.predict(custom_X))\n",
        "print(titanic_model3.predict(custom_X))"
      ],
      "execution_count": null,
      "outputs": [
        {
          "output_type": "stream",
          "text": [
            "[0]\n",
            "[0]\n",
            "[0]\n"
          ],
          "name": "stdout"
        }
      ]
    },
    {
      "cell_type": "markdown",
      "metadata": {
        "id": "FpUAtzyHgNBm"
      },
      "source": [
        "### 3. Оцінити якість класифікації за допомогою техніки відкладеної вибірки.\n",
        "Додатково вивести на екран матрицю помилок."
      ]
    },
    {
      "cell_type": "code",
      "metadata": {
        "id": "4zA4uZYpbv_v",
        "colab": {
          "base_uri": "https://localhost:8080/"
        },
        "outputId": "512d115d-93d9-40d8-dc22-ed3269121474"
      },
      "source": [
        "from sklearn.metrics import mean_absolute_error, confusion_matrix, accuracy_score\n",
        "\n",
        "# Split data into training and validation data, for both features and target.\n",
        "# Supplying a numeric value to the random_state argument guarantees we get the \n",
        "# same split every time we run this script.\n",
        "train_X, val_X, train_y, val_y = train_test_split(X, y, random_state = 0)\n",
        "\n",
        "titanic_model1.fit(train_X, train_y)\n",
        "titanic_model2.fit(train_X, train_y)\n",
        "titanic_model3.fit(train_X, train_y)\n",
        "\n",
        "val_predictions1 = titanic_model1.predict(val_X)\n",
        "val_predictions2 = titanic_model2.predict(val_X)\n",
        "val_predictions3 = titanic_model3.predict(val_X)\n",
        "\n",
        "print(\"model 1:\")\n",
        "print(confusion_matrix(val_y, val_predictions1))\n",
        "print(accuracy_score(val_y, val_predictions1))\n",
        "print(\"\\nmodel 2:\")\n",
        "print(confusion_matrix(val_y, val_predictions2))\n",
        "print(accuracy_score(val_y, val_predictions1))\n",
        "print(\"\\nmodel 3:\")\n",
        "print(confusion_matrix(val_y, val_predictions3))\n",
        "print(accuracy_score(val_y, val_predictions1))\n"
      ],
      "execution_count": null,
      "outputs": [
        {
          "output_type": "stream",
          "text": [
            "model 1:\n",
            "[[109  15]\n",
            " [ 22  59]]\n",
            "0.8195121951219512\n",
            "\n",
            "model 2:\n",
            "[[112  12]\n",
            " [ 26  55]]\n",
            "0.8195121951219512\n",
            "\n",
            "model 3:\n",
            "[[110  14]\n",
            " [ 25  56]]\n",
            "0.8195121951219512\n"
          ],
          "name": "stdout"
        }
      ]
    },
    {
      "cell_type": "markdown",
      "metadata": {
        "id": "47SYL6l5_jy-"
      },
      "source": [
        "### 4. Оцінити якість класифікації, використовуючи техніку ковзного контролю."
      ]
    },
    {
      "cell_type": "code",
      "metadata": {
        "id": "MUcJrM_K_nar",
        "colab": {
          "base_uri": "https://localhost:8080/"
        },
        "outputId": "64bdee23-aa9f-43a6-a121-51275583865d"
      },
      "source": [
        "# Returns: Array of scores of the estimator for each run of the cross validation.\n",
        "from sklearn.model_selection import cross_val_score\n",
        "\n",
        "print(\"model 1:\")\n",
        "print(cross_val_score(titanic_model1, X, y))\n",
        "print(\"\\nmodel 2:\")\n",
        "print(cross_val_score(titanic_model2, X, y))\n",
        "print(\"\\nmodel 3:\")\n",
        "print(cross_val_score(titanic_model3, X, y))"
      ],
      "execution_count": null,
      "outputs": [
        {
          "output_type": "stream",
          "text": [
            "model 1:\n",
            "[0.75609756 0.77439024 0.83536585 0.80981595 0.79754601]\n",
            "\n",
            "model 2:\n",
            "[0.70121951 0.76829268 0.81097561 0.76687117 0.81595092]\n",
            "\n",
            "model 3:\n",
            "[0.82926829 0.80487805 0.80487805 0.79754601 0.82822086]\n"
          ],
          "name": "stdout"
        }
      ]
    },
    {
      "cell_type": "markdown",
      "metadata": {
        "id": "YEjbPR5dAulz"
      },
      "source": [
        "### 5. Спробувати створити класифікатори з іншими гіперпараметрами та оцінити якість їх прогнозів.\n",
        "На цьому етапі слід спробувати налаштувати декілька найважливіших гіперпараметрів, підібравши такі їх значення, за яких якість класифікації найвища. Корисною для цього може виявитися крива валідації."
      ]
    },
    {
      "cell_type": "code",
      "metadata": {
        "id": "v9nEAnNVBfIw"
      },
      "source": [
        "import numpy as np \n",
        "import matplotlib.pyplot as plt \n",
        "from sklearn.model_selection import validation_curve\n",
        "\n",
        "# Ideally, we would want both the validation curve and the training curve to look as similar as possible.\n",
        "# If both scores are low, the model is likely to be underfitting.\n",
        "# If the training curve reaches a high score relatively quickly and the validation curve is lagging behind, the model is overfitting.\n",
        "# We would want the value of the parameter where the training and validation curves are closest to each other.\n",
        "\n",
        "def draw_plot(title, xlabel, train_score, val_score):\n",
        "  mean_train_score = np.mean(train_score, axis = 1) \n",
        "  std_train_score = np.std(train_score, axis = 1) \n",
        "\n",
        "  mean_val_score = np.mean(val_score, axis = 1) \n",
        "  std_val_score = np.std(val_score, axis = 1) \n",
        "\n",
        "  # Plot mean accuracy scores.\n",
        "  plt.plot(parameter_range, mean_train_score, label = \"Training Score\", color = 'b') \n",
        "  plt.plot(parameter_range, mean_val_score, label = \"Cross Validation Score\", color = 'g') \n",
        "    \n",
        "  # Creating the plot.\n",
        "  plt.title(title)\n",
        "  plt.xlabel(xlabel)\n",
        "  plt.ylabel(\"Accuracy\")\n",
        "  plt.tight_layout()\n",
        "  plt.legend(loc = 'best')\n",
        "  plt.show()"
      ],
      "execution_count": null,
      "outputs": []
    },
    {
      "cell_type": "markdown",
      "metadata": {
        "id": "TVyBBEnKJIee"
      },
      "source": [
        "#### KNN Classifier `titanic_model1`"
      ]
    },
    {
      "cell_type": "code",
      "metadata": {
        "id": "y8C4XsBCJyFf",
        "colab": {
          "base_uri": "https://localhost:8080/"
        },
        "outputId": "95ba4fbd-01af-4bb6-abb6-af31b2c1f6ec"
      },
      "source": [
        "titanic_model1.get_params()"
      ],
      "execution_count": null,
      "outputs": [
        {
          "output_type": "execute_result",
          "data": {
            "text/plain": [
              "{'algorithm': 'auto',\n",
              " 'leaf_size': 30,\n",
              " 'metric': 'minkowski',\n",
              " 'metric_params': None,\n",
              " 'n_jobs': None,\n",
              " 'n_neighbors': 5,\n",
              " 'p': 2,\n",
              " 'weights': 'uniform'}"
            ]
          },
          "metadata": {
            "tags": []
          },
          "execution_count": 9
        }
      ]
    },
    {
      "cell_type": "code",
      "metadata": {
        "id": "QopNn2ZpJLBt",
        "colab": {
          "base_uri": "https://localhost:8080/",
          "height": 297
        },
        "outputId": "dd9d9218-0236-46b5-c506-58e64c23b490"
      },
      "source": [
        "parameter_range = np.arange(1, 15, 1) \n",
        "\n",
        "# Calculate accuracy on training and test set.\n",
        "train_score1, val_score1 = validation_curve(titanic_model1, X, y, \n",
        "                                           param_name = \"n_neighbors\", \n",
        "                                           param_range = parameter_range, \n",
        "                                           scoring = \"accuracy\")\n",
        "\n",
        "draw_plot(\"Validation Curve With KNN Classifier\", \"Number of Neighbours\", train_score1, val_score1)"
      ],
      "execution_count": null,
      "outputs": [
        {
          "output_type": "display_data",
          "data": {
            "image/png": "[encoded data removed]",
            "text/plain": [
              "<Figure size 432x288 with 1 Axes>"
            ]
          },
          "metadata": {
            "tags": [],
            "needs_background": "light"
          }
        }
      ]
    },
    {
      "cell_type": "code",
      "metadata": {
        "id": "dT86J3IvKEKv",
        "colab": {
          "base_uri": "https://localhost:8080/"
        },
        "outputId": "d9426937-d039-433c-9248-2f985fb8ce28"
      },
      "source": [
        "titanic_model1.set_params(n_neighbors=12)\n",
        "titanic_model1.fit(X, y)"
      ],
      "execution_count": null,
      "outputs": [
        {
          "output_type": "execute_result",
          "data": {
            "text/plain": [
              "KNeighborsClassifier(algorithm='auto', leaf_size=30, metric='minkowski',\n",
              "                     metric_params=None, n_jobs=None, n_neighbors=12, p=2,\n",
              "                     weights='uniform')"
            ]
          },
          "metadata": {
            "tags": []
          },
          "execution_count": 11
        }
      ]
    },
    {
      "cell_type": "markdown",
      "metadata": {
        "id": "DITW85RGL34S"
      },
      "source": [
        "#### Decision Tree Classifier `titanic_model2`"
      ]
    },
    {
      "cell_type": "code",
      "metadata": {
        "id": "RUkIJsV1NqaR",
        "colab": {
          "base_uri": "https://localhost:8080/"
        },
        "outputId": "51f2cfa9-bd54-4684-922b-a927c3261097"
      },
      "source": [
        "titanic_model2.get_params()"
      ],
      "execution_count": null,
      "outputs": [
        {
          "output_type": "execute_result",
          "data": {
            "text/plain": [
              "{'ccp_alpha': 0.0,\n",
              " 'class_weight': None,\n",
              " 'criterion': 'gini',\n",
              " 'max_depth': None,\n",
              " 'max_features': None,\n",
              " 'max_leaf_nodes': None,\n",
              " 'min_impurity_decrease': 0.0,\n",
              " 'min_impurity_split': None,\n",
              " 'min_samples_leaf': 1,\n",
              " 'min_samples_split': 2,\n",
              " 'min_weight_fraction_leaf': 0.0,\n",
              " 'presort': 'deprecated',\n",
              " 'random_state': None,\n",
              " 'splitter': 'best'}"
            ]
          },
          "metadata": {
            "tags": []
          },
          "execution_count": 12
        }
      ]
    },
    {
      "cell_type": "code",
      "metadata": {
        "id": "zcBmnouFM7qM",
        "colab": {
          "base_uri": "https://localhost:8080/",
          "height": 297
        },
        "outputId": "ef749ed5-7e5d-42f5-aa9a-29a66a7a951d"
      },
      "source": [
        "parameter_range = np.arange(1, 5, 1) \n",
        "\n",
        "# Calculate accuracy on training and test set.\n",
        "train_score2, val_score2 = validation_curve(titanic_model2, X, y, \n",
        "                                           param_name = \"max_depth\", \n",
        "                                           param_range = parameter_range, \n",
        "                                           scoring = \"accuracy\")\n",
        "\n",
        "draw_plot(\"Validation Curve With Decision Tree Classifier\", \"Maximum Depth\", train_score2, val_score2)"
      ],
      "execution_count": null,
      "outputs": [
        {
          "output_type": "display_data",
          "data": {
            "image/png": "[encoded data removed]",
            "text/plain": [
              "<Figure size 432x288 with 1 Axes>"
            ]
          },
          "metadata": {
            "tags": [],
            "needs_background": "light"
          }
        }
      ]
    },
    {
      "cell_type": "code",
      "metadata": {
        "id": "pdowCOTaNqah",
        "colab": {
          "base_uri": "https://localhost:8080/"
        },
        "outputId": "567b1bbc-cffd-4f83-c62f-049081c05f64"
      },
      "source": [
        "titanic_model2.set_params(max_depth=1)\n",
        "titanic_model2.fit(X, y)"
      ],
      "execution_count": null,
      "outputs": [
        {
          "output_type": "execute_result",
          "data": {
            "text/plain": [
              "DecisionTreeClassifier(ccp_alpha=0.0, class_weight=None, criterion='gini',\n",
              "                       max_depth=1, max_features=None, max_leaf_nodes=None,\n",
              "                       min_impurity_decrease=0.0, min_impurity_split=None,\n",
              "                       min_samples_leaf=1, min_samples_split=2,\n",
              "                       min_weight_fraction_leaf=0.0, presort='deprecated',\n",
              "                       random_state=None, splitter='best')"
            ]
          },
          "metadata": {
            "tags": []
          },
          "execution_count": 14
        }
      ]
    },
    {
      "cell_type": "markdown",
      "metadata": {
        "id": "VNad__BjPGEh"
      },
      "source": [
        "#### SVC Classifier `titanic_model3`"
      ]
    },
    {
      "cell_type": "code",
      "metadata": {
        "id": "L6tk0t6lPGEt",
        "colab": {
          "base_uri": "https://localhost:8080/"
        },
        "outputId": "4c97cb5e-0019-4387-e047-b1f7cb6108af"
      },
      "source": [
        "titanic_model3.get_params()"
      ],
      "execution_count": null,
      "outputs": [
        {
          "output_type": "execute_result",
          "data": {
            "text/plain": [
              "{'C': 1.0,\n",
              " 'break_ties': False,\n",
              " 'cache_size': 200,\n",
              " 'class_weight': None,\n",
              " 'coef0': 0.0,\n",
              " 'decision_function_shape': 'ovr',\n",
              " 'degree': 3,\n",
              " 'gamma': 'scale',\n",
              " 'kernel': 'rbf',\n",
              " 'max_iter': -1,\n",
              " 'probability': False,\n",
              " 'random_state': None,\n",
              " 'shrinking': True,\n",
              " 'tol': 0.001,\n",
              " 'verbose': False}"
            ]
          },
          "metadata": {
            "tags": []
          },
          "execution_count": 15
        }
      ]
    },
    {
      "cell_type": "code",
      "metadata": {
        "id": "pVGopggWPGE1",
        "colab": {
          "base_uri": "https://localhost:8080/",
          "height": 297
        },
        "outputId": "07a9edd3-2bd4-4ad2-e786-22710776f943"
      },
      "source": [
        "parameter_range = np.arange(0, 0.3, 0.05) \n",
        "\n",
        "# Calculate accuracy on training and test set.\n",
        "train_score3, val_score3 = validation_curve(titanic_model3, X, y, \n",
        "                                           param_name = \"gamma\", \n",
        "                                           param_range = parameter_range, \n",
        "                                           scoring = \"accuracy\")\n",
        "\n",
        "draw_plot(\"Validation Curve With Decision Tree Classifier\", \"Gamma\", train_score3, val_score3)"
      ],
      "execution_count": null,
      "outputs": [
        {
          "output_type": "display_data",
          "data": {
            "image/png": "[encoded data removed]",
            "text/plain": [
              "<Figure size 432x288 with 1 Axes>"
            ]
          },
          "metadata": {
            "tags": [],
            "needs_background": "light"
          }
        }
      ]
    },
    {
      "cell_type": "code",
      "metadata": {
        "id": "aC3zhuEvPGE5",
        "colab": {
          "base_uri": "https://localhost:8080/"
        },
        "outputId": "100fc262-65e9-447c-e7f3-8fb5482838ca"
      },
      "source": [
        "titanic_model3.set_params(gamma=0.2)\n",
        "titanic_model3.fit(X, y)"
      ],
      "execution_count": null,
      "outputs": [
        {
          "output_type": "execute_result",
          "data": {
            "text/plain": [
              "SVC(C=1.0, break_ties=False, cache_size=200, class_weight=None, coef0=0.0,\n",
              "    decision_function_shape='ovr', degree=3, gamma=0.2, kernel='rbf',\n",
              "    max_iter=-1, probability=False, random_state=None, shrinking=True,\n",
              "    tol=0.001, verbose=False)"
            ]
          },
          "metadata": {
            "tags": []
          },
          "execution_count": 17
        }
      ]
    },
    {
      "cell_type": "markdown",
      "metadata": {
        "id": "Cq9P5L2jSdIx"
      },
      "source": [
        "### 6. Здійснити автоматичний підбір гіперпараметрів для кожного класифікатора за допомогою вбудованих засобів бібліотеки scikit-learn.\n",
        "За яких гіперпараметрів (підібраних вами вручну або знайдених автоматично) якість класифікації вища?"
      ]
    },
    {
      "cell_type": "code",
      "metadata": {
        "id": "GftDXpWOpabd",
        "colab": {
          "base_uri": "https://localhost:8080/"
        },
        "outputId": "0087ab4c-ca08-4f4d-d891-d094974fc079"
      },
      "source": [
        "from sklearn.model_selection import GridSearchCV\n",
        "\n",
        "params = {\n",
        "    'n_neighbors': np.arange(1, 15, 1)\n",
        "}\n",
        "\n",
        "titanic_model1_grid = GridSearchCV(titanic_model1, params)\n",
        "titanic_model1_grid.fit(train_X, train_y)\n",
        "\n",
        "print(\"model1 auto params:\")\n",
        "print(titanic_model1_grid.best_params_)\n",
        "print(titanic_model1_grid.best_score_)\n",
        "\n",
        "print(\"\\nmodel1 manual params:\")\n",
        "val_predictions1 = titanic_model1.predict(val_X)\n",
        "print(titanic_model1.get_params())\n",
        "print(accuracy_score(val_y, val_predictions1))\n",
        "\n",
        "params = {\n",
        "    'max_depth': np.arange(1, 5, 1)\n",
        "}\n",
        "\n",
        "titanic_model2_grid = GridSearchCV(titanic_model2, params)\n",
        "titanic_model2_grid.fit(train_X, train_y)\n",
        "\n",
        "print(\"\\nmodel2 auto params:\")\n",
        "print(titanic_model2_grid.best_params_)\n",
        "print(titanic_model2_grid.best_score_)\n",
        "\n",
        "print(\"\\nmodel2 manual params:\")\n",
        "val_predictions2 = titanic_model2.predict(val_X)\n",
        "print(titanic_model2.get_params())\n",
        "print(accuracy_score(val_y, val_predictions2))\n",
        "\n",
        "params = {\n",
        "    'gamma': np.arange(0, 0.3, 0.05)\n",
        "}\n",
        "\n",
        "titanic_model3_grid = GridSearchCV(titanic_model3, params)\n",
        "titanic_model3_grid.fit(train_X, train_y)\n",
        "\n",
        "print(\"\\nmodel3 auto params:\")\n",
        "print(titanic_model3_grid.best_params_)\n",
        "print(titanic_model3_grid.best_score_)\n",
        "\n",
        "print(\"\\nmodel3 manual params:\")\n",
        "val_predictions3 = titanic_model1.predict(val_X)\n",
        "print(titanic_model3.get_params())\n",
        "print(accuracy_score(val_y, val_predictions1))"
      ],
      "execution_count": null,
      "outputs": [
        {
          "output_type": "stream",
          "text": [
            "model1 auto params:\n",
            "{'n_neighbors': 13}\n",
            "0.8058376649340264\n",
            "\n",
            "model1 manual params:\n",
            "{'algorithm': 'auto', 'leaf_size': 30, 'metric': 'minkowski', 'metric_params': None, 'n_jobs': None, 'n_neighbors': 12, 'p': 2, 'weights': 'uniform'}\n",
            "0.8390243902439024\n",
            "\n",
            "model2 auto params:\n",
            "{'max_depth': 2}\n",
            "0.8075036652005865\n",
            "\n",
            "model2 manual params:\n",
            "{'ccp_alpha': 0.0, 'class_weight': None, 'criterion': 'gini', 'max_depth': 1, 'max_features': None, 'max_leaf_nodes': None, 'min_impurity_decrease': 0.0, 'min_impurity_split': None, 'min_samples_leaf': 1, 'min_samples_split': 2, 'min_weight_fraction_leaf': 0.0, 'presort': 'deprecated', 'random_state': None, 'splitter': 'best'}\n",
            "0.7853658536585366\n",
            "\n",
            "model3 auto params:\n",
            "{'gamma': 0.05}\n",
            "0.7928295348527257\n",
            "\n",
            "model3 manual params:\n",
            "{'C': 1.0, 'break_ties': False, 'cache_size': 200, 'class_weight': None, 'coef0': 0.0, 'decision_function_shape': 'ovr', 'degree': 3, 'gamma': 0.2, 'kernel': 'rbf', 'max_iter': -1, 'probability': False, 'random_state': None, 'shrinking': True, 'tol': 0.001, 'verbose': False}\n",
            "0.8390243902439024\n"
          ],
          "name": "stdout"
        }
      ]
    },
    {
      "cell_type": "markdown",
      "metadata": {
        "id": "rmITeaxr1bcj"
      },
      "source": [
        "### 7. Для кожного класифікатора з гіперпараметрами, які ви вважаєте оптимальними, побудувати криву навчання. \n",
        "Виходячи з її вигляду, слід відповісти на питання: чи не перенавчений класифікатор? чи достатній обсяг навчальної вибірки? Якщо крива навчання свідчить про перенавчання класифікатора, то слід повернутися до пункту 5 і підібрати інші гіперпараметри."
      ]
    },
    {
      "cell_type": "code",
      "metadata": {
        "id": "-OfMR7vM1uk8"
      },
      "source": [
        "# Determines cross-validated training and test scores \n",
        "# for different training set sizes.\n",
        "from sklearn.model_selection import learning_curve\n",
        "\n",
        "def draw_plot(title, train_sizes, train_scores, val_scores):\n",
        "  train_scores_mean = np.mean(train_scores, axis = 1) \n",
        "  val_scores_mean = np.mean(val_scores, axis = 1) \n",
        "\n",
        "  # Plot mean accuracy scores.\n",
        "  plt.plot(train_sizes, train_scores_mean, label = \"Training Score\", color = 'b') \n",
        "  plt.plot(train_sizes, val_scores_mean, label = \"Cross Validation Score\", color = 'g') \n",
        "    \n",
        "  # Creating the plot.\n",
        "  plt.title(title)\n",
        "  plt.xlabel(\"Training examples\")\n",
        "  plt.ylabel(\"Accuracy\")\n",
        "  plt.tight_layout()\n",
        "  plt.legend(loc = 'best')\n",
        "  plt.show()"
      ],
      "execution_count": null,
      "outputs": []
    },
    {
      "cell_type": "markdown",
      "metadata": {
        "id": "uKId7zzs4cCR"
      },
      "source": [
        "#### KNN Classifier `titanic_model1`"
      ]
    },
    {
      "cell_type": "code",
      "metadata": {
        "id": "CYsjPIOa4grk",
        "colab": {
          "base_uri": "https://localhost:8080/",
          "height": 297
        },
        "outputId": "5de44983-ba89-408f-9482-4641f329fbc5"
      },
      "source": [
        "train_sizes, train_scores, val_scores = learning_curve(titanic_model1, X, y)\n",
        "draw_plot(\"Learning Curve for KNN Classifier\", train_sizes, train_scores, val_scores)"
      ],
      "execution_count": null,
      "outputs": [
        {
          "output_type": "display_data",
          "data": {
            "image/png": "[encoded data removed]",
            "text/plain": [
              "<Figure size 432x288 with 1 Axes>"
            ]
          },
          "metadata": {
            "tags": [],
            "needs_background": "light"
          }
        }
      ]
    },
    {
      "cell_type": "markdown",
      "metadata": {
        "id": "D3BRYojz4fDl"
      },
      "source": [
        "#### Decision Tree Classifier `titanic_model2`"
      ]
    },
    {
      "cell_type": "code",
      "metadata": {
        "id": "D7vJnG_F56wU",
        "colab": {
          "base_uri": "https://localhost:8080/",
          "height": 297
        },
        "outputId": "fab53aa3-2f48-4fdf-8b56-85a1c61443a0"
      },
      "source": [
        "train_sizes, train_scores, val_scores = learning_curve(titanic_model2, X, y)\n",
        "draw_plot(\"Learning Curve for Decision Tree Classifier\", train_sizes, train_scores, val_scores)"
      ],
      "execution_count": null,
      "outputs": [
        {
          "output_type": "display_data",
          "data": {
            "image/png": "[encoded data removed]",
            "text/plain": [
              "<Figure size 432x288 with 1 Axes>"
            ]
          },
          "metadata": {
            "tags": [],
            "needs_background": "light"
          }
        }
      ]
    },
    {
      "cell_type": "markdown",
      "metadata": {
        "id": "QCsS2v2w4WWL"
      },
      "source": [
        "#### SVC Classifier `titanic_model3`"
      ]
    },
    {
      "cell_type": "code",
      "metadata": {
        "id": "0if9feeZ6AP5",
        "colab": {
          "base_uri": "https://localhost:8080/",
          "height": 297
        },
        "outputId": "da6e7eb2-87a3-4139-820c-c7482996f8a2"
      },
      "source": [
        "train_sizes, train_scores, val_scores = learning_curve(titanic_model3, X, y)\n",
        "draw_plot(\"Learning Curve for SVC Classifier\", train_sizes, train_scores, val_scores)"
      ],
      "execution_count": null,
      "outputs": [
        {
          "output_type": "display_data",
          "data": {
            "image/png": "[encoded data removed]",
            "text/plain": [
              "<Figure size 432x288 with 1 Axes>"
            ]
          },
          "metadata": {
            "tags": [],
            "needs_background": "light"
          }
        }
      ]
    }
  ]
}